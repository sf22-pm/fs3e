{
  "cells": [
    {
      "cell_type": "markdown",
      "source": [
        "# Dependências"
      ],
      "metadata": {
        "id": "-k9W7zofvoyK"
      },
      "id": "-k9W7zofvoyK"
    },
    {
      "cell_type": "code",
      "source": [
        "!pip install logitboost\n",
        "!pip install wittgenstein\n",
        "!pip install python-javabridge\n",
        "!pip install python-weka-wrapper3\n",
        "\n",
        "from sklearn.feature_selection import chi2, f_classif\n",
        "from sklearn.feature_selection import SelectKBest\n",
        "from sklearn.model_selection import KFold\n",
        "from sklearn.metrics import classification_report\n",
        "from sklearn.neighbors import KNeighborsClassifier\n",
        "from sklearn.naive_bayes import GaussianNB\n",
        "from sklearn.ensemble import RandomForestClassifier\n",
        "from sklearn.tree import DecisionTreeClassifier\n",
        "from sklearn.linear_model import LogisticRegression\n",
        "from sklearn.tree import DecisionTreeClassifier\n",
        "from logitboost import LogitBoost\n",
        "import numpy as np\n",
        "import pandas as pd\n",
        "import seaborn as sns\n",
        "import wittgenstein as lw\n",
        "\n",
        "import weka.core.jvm as jvm\n",
        "from weka.classifiers import Classifier\n",
        "from weka.core.dataset import create_instances_from_matrices\n",
        "from weka.filters import Filter\n",
        "from sklearn import metrics\n",
        "from google.colab import drive\n",
        "\n",
        "jvm.start()"
      ],
      "metadata": {
        "id": "7_PX6vQ6VElv",
        "colab": {
          "base_uri": "https://localhost:8080/"
        },
        "outputId": "b02157b5-18a5-41ee-b0bd-b47b6eee2889"
      },
      "id": "7_PX6vQ6VElv",
      "execution_count": 38,
      "outputs": [
        {
          "output_type": "stream",
          "name": "stderr",
          "text": [
            "INFO:weka.core.jvm:JVM already running, call jvm.stop() first\n"
          ]
        }
      ]
    },
    {
      "cell_type": "markdown",
      "source": [
        "# Obtenção do Dataset"
      ],
      "metadata": {
        "id": "-5CCDD5pRoWq"
      },
      "id": "-5CCDD5pRoWq"
    },
    {
      "cell_type": "code",
      "source": [
        "drive.mount('/content/drive')\n",
        "dataset_path = '/content/drive/MyDrive/Faculdade/malware-hunter/Notebooks/ORIGINAL_Drebin215 (2012).csv'\n",
        "drebin_df = pd.read_csv(dataset_path, sep=';')\n",
        "X, y = drebin_df.iloc[:,:-1], drebin_df.iloc[:,-1]\n",
        "y = np.array([1 if value == 'B' else 0 for value in y ]) # benigno = 1, malware = 0"
      ],
      "metadata": {
        "colab": {
          "base_uri": "https://localhost:8080/"
        },
        "id": "CU2BwMVZUD1j",
        "outputId": "635db2ec-4614-4da9-c0fc-3e76b5d4f636"
      },
      "id": "CU2BwMVZUD1j",
      "execution_count": 39,
      "outputs": [
        {
          "output_type": "stream",
          "name": "stdout",
          "text": [
            "Drive already mounted at /content/drive; to attempt to forcibly remount, call drive.mount(\"/content/drive\", force_remount=True).\n"
          ]
        }
      ]
    },
    {
      "cell_type": "markdown",
      "metadata": {
        "id": "-4VF9rkZT7kt"
      },
      "source": [
        "# Execução do experimento\n",
        "\n",
        "### Observação\n",
        "\n",
        "Os seguintes algoritmos utilizados no paper possuem implementação na ferramenta Weka, mas não no Scikit-learn: Sequential Minimal Optimization (SMO), AdaBoostM1 e Random Committee. Portanto, vamos usar a biblioteca `python-weka-wrapper3` para eles. No caso do SMO, deve haver um classificador para cada kernel usado no paper, a saber, kernel polinomial, kernel normalizado, kernel PUK e kernel RBF."
      ],
      "id": "-4VF9rkZT7kt"
    },
    {
      "cell_type": "code",
      "execution_count": 42,
      "metadata": {
        "id": "zDgBFqB_T7ku"
      },
      "outputs": [],
      "source": [
        "class WekaClassifier:\n",
        "    def __init__(self, classifier, prediction_threshold=0.6):\n",
        "        self.classifier = classifier\n",
        "        self.threshold = prediction_threshold\n",
        "    \n",
        "    def fit(self, X, y):\n",
        "        train_data = create_instances_from_matrices(np.array(X), np.array(y))\n",
        "        train_data = WekaClassifier.__convert_numeric_instances_to_nominal(train_data)\n",
        "        train_data.class_is_last()\n",
        "        self.classifier.build_classifier(train_data)\n",
        "    \n",
        "    def predict(self, X, y):\n",
        "        test_data = create_instances_from_matrices(np.array(X), np.array(y))\n",
        "        test_data = WekaClassifier.__convert_numeric_instances_to_nominal(test_data)\n",
        "        test_data.class_is_last()\n",
        "        y_pred = [self.classifier.classify_instance(instance) for instance in test_data]\n",
        "        if(len(set(y_pred)) > 2):\n",
        "            y_pred = [0 if prob > self.threshold else 1 for prob in y_pred]\n",
        "        return y_pred\n",
        "\n",
        "    def __convert_numeric_instances_to_nominal(instances):\n",
        "        numeric_to_nominal = Filter(\"weka.filters.unsupervised.attribute.NumericToNominal\")\n",
        "        numeric_to_nominal.inputformat(instances)\n",
        "        return numeric_to_nominal.filter(instances)\n",
        "\n",
        "def run_experiment(X, y, classifiers, \n",
        "                   score_functions=[chi2, f_classif], \n",
        "                   n_folds=10, \n",
        "                   prediction_threshold=0.6, \n",
        "                   k_increment=20,\n",
        "                   k_list=[]):\n",
        "    \"\"\"\n",
        "    Esta função implementa um experimento de classificação binária usando validação cruzada e seleção de características. \n",
        "    Os \"classifiers\" devem implementar as funções \"fit\" e \"predict\", como as funções do Scikit-learn.\n",
        "    Se a função \"predict(X)\" não retornar valores binários, então utiliza-se um esquema de predição baseada no limiar \"prediction_threshold\".\n",
        "    Se o parâmetro \"k_list\" for uma lista não vazia, então ele será usado como a lista das quantidades de características a serem selecionadas. \n",
        "    \"\"\"\n",
        "    results = []\n",
        "    if(len(k_list) > 0):\n",
        "        k_values = k_list\n",
        "    else:\n",
        "        k_values = range(10, X.shape[1], k_increment)\n",
        "    for k in k_values:\n",
        "        if(k > X.shape[1]):\n",
        "            continue\n",
        "        print(\"K =\", k)\n",
        "        for score_function in score_functions:\n",
        "            X_selected = SelectKBest(score_func=score_function, k=k).fit_transform(X, y)\n",
        "            kf = KFold(n_splits=n_folds, random_state=256, shuffle=True)\n",
        "            fold = 0\n",
        "            for train_index, test_index in kf.split(X_selected):\n",
        "                X_train, X_test = X_selected[train_index], X_selected[test_index]\n",
        "                y_train, y_test = y[train_index], y[test_index]\n",
        "                \n",
        "                for classifier_name, classifier in classifiers.items():\n",
        "                    classifier.fit(X_train, y_train)\n",
        "                    if(isinstance(classifier, WekaClassifier)):\n",
        "                        y_pred = classifier.predict(X_test, y_test)\n",
        "                    else:\n",
        "                        y_pred = classifier.predict(X_test)\n",
        "                    report = classification_report(y_test, y_pred, output_dict=True)\n",
        "                    results.append({'n_fold': fold,\n",
        "                                    'k': k,\n",
        "                                    'score_function':score_function.__name__,\n",
        "                                    'algorithm': classifier_name,\n",
        "                                    'accuracy': report['accuracy'],\n",
        "                                    'precision': report['macro avg']['precision'], \n",
        "                                    'recall': report['macro avg']['recall'],\n",
        "                                    'f-measure': report['macro avg']['f1-score']\n",
        "                                })\n",
        "                fold += 1\n",
        "            \n",
        "    return pd.DataFrame(results)\n"
      ],
      "id": "zDgBFqB_T7ku"
    },
    {
      "cell_type": "code",
      "execution_count": null,
      "metadata": {
        "id": "qzP9oV62T7kv"
      },
      "outputs": [],
      "source": [
        "classifiers = {\n",
        "    'NaiveBayes': GaussianNB(),\n",
        "    'KNN': KNeighborsClassifier(metric='euclidean'),\n",
        "    'RandomForest': RandomForestClassifier(),\n",
        "    'LogisticRegression': LogisticRegression(),\n",
        "    'DecisionTree': DecisionTreeClassifier(),\n",
        "    'SimpleLogistic': LogitBoost(),\n",
        "    'JRIP': lw.RIPPER(),\n",
        "    'SMO-PolyKernel' : WekaClassifier(Classifier(\"weka.classifiers.functions.SMO\", options=['-K', 'weka.classifiers.functions.supportVector.PolyKernel'])),\n",
        "    'SMO-NormalizedPolyKernel': WekaClassifier(Classifier(\"weka.classifiers.functions.SMO\", options=['-K', 'weka.classifiers.functions.supportVector.NormalizedPolyKernel'])),\n",
        "    'SMO-Puk': WekaClassifier(Classifier(\"weka.classifiers.functions.SMO\", options=['-K', 'weka.classifiers.functions.supportVector.Puk'])),\n",
        "    'SMO-RBFKernel': WekaClassifier(Classifier(\"weka.classifiers.functions.SMO\", options=['-K', 'weka.classifiers.functions.supportVector.RBFKernel'])),\n",
        "    'AdaBoostM1': WekaClassifier(Classifier(\"weka.classifiers.meta.AdaBoostM1\")),\n",
        "    'RandomCommittee':  WekaClassifier(Classifier(\"weka.classifiers.meta.RandomCommittee\"))\n",
        "}\n",
        "results = run_experiment(X, y, classifiers, n_folds=3)"
      ],
      "id": "qzP9oV62T7kv"
    },
    {
      "cell_type": "markdown",
      "source": [
        "# Plot dos resultados"
      ],
      "metadata": {
        "id": "cJYGLv5-EtxW"
      },
      "id": "cJYGLv5-EtxW"
    },
    {
      "cell_type": "code",
      "source": [
        "def plot_algorithms_results(results, title, score_function='chi2', metric='accuracy'):\n",
        "    g = sns.lineplot(x='k', y=metric, hue='algorithm',\n",
        "                    data=results[results['score_function'] == score_function].groupby(['k','algorithm']).mean(),\n",
        "                    markers=True, style='algorithm', dashes=False)\n",
        "    g.set_title(title)\n",
        "    g.set_xticks(results['k'].unique())\n",
        "\n",
        "plot_algorithms_results(results, 'Acurácia média dos folds usando Chi-quadrado para cada algoritmo')"
      ],
      "metadata": {
        "id": "uZjBb_Zb1j_G",
        "colab": {
          "base_uri": "https://localhost:8080/",
          "height": 295
        },
        "outputId": "af4bb821-1a82-450d-a3b9-a7ec8e2effb1"
      },
      "id": "uZjBb_Zb1j_G",
      "execution_count": 55,
      "outputs": [
        {
          "output_type": "display_data",
          "data": {
            "image/png": "[encoded data removed]",
            "text/plain": [
              "<Figure size 432x288 with 1 Axes>"
            ]
          },
          "metadata": {
            "needs_background": "light"
          }
        }
      ]
    },
    {
      "cell_type": "code",
      "source": [
        "plot_algorithms_results(results, 'Acurácia média dos folds usando ANOVA para cada algoritmo', score_function='f_classif')"
      ],
      "metadata": {
        "id": "RFJkfvRpEi3l",
        "colab": {
          "base_uri": "https://localhost:8080/",
          "height": 295
        },
        "outputId": "51ea4dbc-b0b0-4e14-fa30-9256f583a8ce"
      },
      "id": "RFJkfvRpEi3l",
      "execution_count": 56,
      "outputs": [
        {
          "output_type": "display_data",
          "data": {
            "image/png": "[encoded data removed]",
            "text/plain": [
              "<Figure size 432x288 with 1 Axes>"
            ]
          },
          "metadata": {
            "needs_background": "light"
          }
        }
      ]
    },
    {
      "cell_type": "code",
      "source": [
        ""
      ],
      "metadata": {
        "id": "BI4NRSotbS7Y"
      },
      "id": "BI4NRSotbS7Y",
      "execution_count": null,
      "outputs": []
    }
  ],
  "metadata": {
    "kernelspec": {
      "display_name": "Python 3",
      "language": "python",
      "name": "python3"
    },
    "language_info": {
      "codemirror_mode": {
        "name": "ipython",
        "version": 3
      },
      "file_extension": ".py",
      "mimetype": "text/x-python",
      "name": "python",
      "nbconvert_exporter": "python",
      "pygments_lexer": "ipython3",
      "version": "3.6.9"
    },
    "colab": {
      "name": "RFG.ipynb",
      "provenance": [],
      "collapsed_sections": []
    }
  },
  "nbformat": 4,
  "nbformat_minor": 5
}